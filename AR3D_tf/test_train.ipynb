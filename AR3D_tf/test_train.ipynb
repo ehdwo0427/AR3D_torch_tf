{
    "cells": [
        {
            "cell_type": "code",
            "execution_count": 1,
            "source": [
                "import os\n",
                "import tensorflow as tf\n",
                "\n",
                "os.sys.path.append('/home/subin/AR3D_SVR2/AR3D_tf/')\n",
                "\n",
                "from config_tf import config\n",
                "from dataloader_tf import load_data, DataLoader\n",
                "from network import AR3D_tf as AR3D\n",
                "\n",
                "\n",
                "# os.environ[\"CUDA_VISIBLE_DEVICES\"]=\"0, 1, 2\"\n",
                "os.environ[\"CUDA_VISIBLE_DEVICES\"]=''"
            ],
            "outputs": [
                {
                    "output_type": "stream",
                    "name": "stderr",
                    "text": [
                        "2021-07-23 19:46:15.542843: I tensorflow/stream_executor/platform/default/dso_loader.cc:48] Successfully opened dynamic library libcudart.so.10.1\n"
                    ]
                }
            ],
            "metadata": {}
        },
        {
            "cell_type": "code",
            "execution_count": 3,
            "source": [
                "import numpy as np\n",
                "\n",
                "x_train, y_train = load_data(config.dataset, \"train\")\n",
                "x_valid, y_valid = load_data(config.dataset, \"val\")\n",
                "\n",
                "train_loader = DataLoader(x_train, y_train, 1, 'train', config.batch_size)\n",
                "test_loader =  DataLoader(x_train, y_train, 1, 'test', config.batch_size)\n",
                "\n",
                "model = AR3D.AR3D(num_classes = config.num_classes, AR3D_V = config.ar3d_version, SFE_type = config.sfe_type, \n",
                "                    attention_method = config.attention, reduction_ratio = config.reduction_ratio, hidden_unit = config.hidden_units)\n",
                "opt = tf.keras.optimizers.Adam(learning_rate=config.lr)\n",
                "model.compile(optimizer=opt, loss='categorical_crossentropy', metrics=['accuracy'])\n",
                "model.build(input_shape=(config.batch_size, config.frames_per_clips, 112, 112, 3))\n",
                "\n",
                "model.summary()\n",
                "\n",
                "\n",
                "# if config.model_name == 'AR3D':\n",
                "    \n",
                "#     ## multi gpu test1 \n",
                "#     stratege = tf.distribute.MirroredStrategy()\n",
                "\n",
                "#     with stratege.scope():\n",
                "#         x_train, y_train\n",
                "#         model = AR3D.AR3D(num_classes = config.num_classes, AR3D_V = config.ar3d_version, SFE_type = config.sfe_type, \n",
                "#                             attention_method = config.attention, reduction_ratio = config.reduction_ratio, hidden_unit = config.hidden_units)\n",
                "#         model.build(input_shape=(config.batch_size, config.frames_per_clips, 112, 112, 3))\n",
                "#         opt = tf.keras.optimizers.Adam(learning_rate=config.lr)\n",
                "#         model.compile(optimizer=opt, loss='categorical_crossentropy', metrics=['accuracy'])\n",
                "    \n"
            ],
            "outputs": [
                {
                    "output_type": "stream",
                    "name": "stdout",
                    "text": [
                        "Model: \"a_r3d_1\"\n",
                        "_________________________________________________________________\n",
                        "Layer (type)                 Output Shape              Param #   \n",
                        "=================================================================\n",
                        "sfe_block_1 (sfe_block)      multiple                  13499136  \n",
                        "_________________________________________________________________\n",
                        "r3d_module_1 (r3d_module)    multiple                  332160    \n",
                        "_________________________________________________________________\n",
                        "a3d_module_1 (a3d_module)    multiple                  263040    \n",
                        "_________________________________________________________________\n",
                        "dense_3 (Dense)              multiple                  205524992 \n",
                        "_________________________________________________________________\n",
                        "dense_4 (Dense)              multiple                  16781312  \n",
                        "_________________________________________________________________\n",
                        "dense_5 (Dense)              multiple                  413797    \n",
                        "_________________________________________________________________\n",
                        "re_lu_1 (ReLU)               multiple                  0         \n",
                        "_________________________________________________________________\n",
                        "dropout_1 (Dropout)          multiple                  0         \n",
                        "=================================================================\n",
                        "Total params: 236,814,437\n",
                        "Trainable params: 236,812,645\n",
                        "Non-trainable params: 1,792\n",
                        "_________________________________________________________________\n"
                    ]
                }
            ],
            "metadata": {}
        },
        {
            "cell_type": "code",
            "execution_count": 7,
            "source": [
                "loss = tf.keras.losses.CategoricalCrossentropy()\n",
                "optimizer = tf.keras.optimizers.Adam(learning_rate=0.01)\n",
                "\n",
                "train_loss = tf.keras.metrics.Mean()\n",
                "train_accuracy = tf.keras.metrics.Accuracy()\n",
                "test_loss = tf.keras.metrics.Mean()\n",
                "test_accuracy = tf.keras.metrics.Accuracy()\n",
                "\n",
                "epochs = 50\n",
                "for epoch_index in range(epochs):\n",
                "    for x_train_batch, y_train_batch in train_loader:\n",
                "        with tf.GradientTape() as tape:\n",
                "            predictions = model(x_train_batch, training=True)\n",
                "            loss_value = loss(y_train_batch, predictions)\n",
                "        gradients = tape.gradient(loss_value, model.trainable_variables)\n",
                "        optimizer.apply_gradients(zip(gradients, model.trainable_variables))\n",
                "\n",
                "        train_loss.update_state(loss_value)\n",
                "        train_accuracy.update_state(tf.argmax(y_train_batch, axis=1), tf.argmax(predictions, axis=1))\n",
                "\n",
                "    for x_test_batch, y_test_batch in test_loader:\n",
                "        predictions = model(x_test_batch)\n",
                "        loss_value = loss(y_test_batch, predictions)\n",
                "        test_loss.update_state(loss_value)\n",
                "        test_accuracy.update_state(tf.argmax(y_test_batch, axis=1), tf.argmax(predictions, axis=1))\n",
                "\n",
                "    print('epoch: {}/{}, train loss: {:.4f}, train accuracy: {:.4f}, test loss: {:.4f}, test accuracy: {:.4f}'.format(\n",
                "        epoch_index + 1, epochs, train_loss.result().numpy(), train_accuracy.result().numpy(), test_loss.result().numpy(), test_accuracy.result().numpy()))\n",
                "    train_loss.reset_states()\n",
                "    train_accuracy.reset_states()\n",
                "    test_loss.reset_states()\n",
                "    test_accuracy.reset_states()"
            ],
            "outputs": [
                {
                    "output_type": "error",
                    "ename": "KeyboardInterrupt",
                    "evalue": "",
                    "traceback": [
                        "\u001b[0;31m---------------------------------------------------------------------------\u001b[0m",
                        "\u001b[0;31mKeyboardInterrupt\u001b[0m                         Traceback (most recent call last)",
                        "\u001b[0;32m/tmp/ipykernel_28645/1954969672.py\u001b[0m in \u001b[0;36m<module>\u001b[0;34m\u001b[0m\n\u001b[1;32m     13\u001b[0m             \u001b[0mpredictions\u001b[0m \u001b[0;34m=\u001b[0m \u001b[0mmodel\u001b[0m\u001b[0;34m(\u001b[0m\u001b[0mx_train_batch\u001b[0m\u001b[0;34m,\u001b[0m \u001b[0mtraining\u001b[0m\u001b[0;34m=\u001b[0m\u001b[0;32mTrue\u001b[0m\u001b[0;34m)\u001b[0m\u001b[0;34m\u001b[0m\u001b[0;34m\u001b[0m\u001b[0m\n\u001b[1;32m     14\u001b[0m             \u001b[0mloss_value\u001b[0m \u001b[0;34m=\u001b[0m \u001b[0mloss\u001b[0m\u001b[0;34m(\u001b[0m\u001b[0my_train_batch\u001b[0m\u001b[0;34m,\u001b[0m \u001b[0mpredictions\u001b[0m\u001b[0;34m)\u001b[0m\u001b[0;34m\u001b[0m\u001b[0;34m\u001b[0m\u001b[0m\n\u001b[0;32m---> 15\u001b[0;31m         \u001b[0mgradients\u001b[0m \u001b[0;34m=\u001b[0m \u001b[0mtape\u001b[0m\u001b[0;34m.\u001b[0m\u001b[0mgradient\u001b[0m\u001b[0;34m(\u001b[0m\u001b[0mloss_value\u001b[0m\u001b[0;34m,\u001b[0m \u001b[0mmodel\u001b[0m\u001b[0;34m.\u001b[0m\u001b[0mtrainable_variables\u001b[0m\u001b[0;34m)\u001b[0m\u001b[0;34m\u001b[0m\u001b[0;34m\u001b[0m\u001b[0m\n\u001b[0m\u001b[1;32m     16\u001b[0m         \u001b[0moptimizer\u001b[0m\u001b[0;34m.\u001b[0m\u001b[0mapply_gradients\u001b[0m\u001b[0;34m(\u001b[0m\u001b[0mzip\u001b[0m\u001b[0;34m(\u001b[0m\u001b[0mgradients\u001b[0m\u001b[0;34m,\u001b[0m \u001b[0mmodel\u001b[0m\u001b[0;34m.\u001b[0m\u001b[0mtrainable_variables\u001b[0m\u001b[0;34m)\u001b[0m\u001b[0;34m)\u001b[0m\u001b[0;34m\u001b[0m\u001b[0;34m\u001b[0m\u001b[0m\n\u001b[1;32m     17\u001b[0m \u001b[0;34m\u001b[0m\u001b[0m\n",
                        "\u001b[0;32m~/venv/ar3d/lib/python3.7/site-packages/tensorflow/python/eager/backprop.py\u001b[0m in \u001b[0;36mgradient\u001b[0;34m(self, target, sources, output_gradients, unconnected_gradients)\u001b[0m\n\u001b[1;32m   1071\u001b[0m         \u001b[0moutput_gradients\u001b[0m\u001b[0;34m=\u001b[0m\u001b[0moutput_gradients\u001b[0m\u001b[0;34m,\u001b[0m\u001b[0;34m\u001b[0m\u001b[0;34m\u001b[0m\u001b[0m\n\u001b[1;32m   1072\u001b[0m         \u001b[0msources_raw\u001b[0m\u001b[0;34m=\u001b[0m\u001b[0mflat_sources_raw\u001b[0m\u001b[0;34m,\u001b[0m\u001b[0;34m\u001b[0m\u001b[0;34m\u001b[0m\u001b[0m\n\u001b[0;32m-> 1073\u001b[0;31m         unconnected_gradients=unconnected_gradients)\n\u001b[0m\u001b[1;32m   1074\u001b[0m \u001b[0;34m\u001b[0m\u001b[0m\n\u001b[1;32m   1075\u001b[0m     \u001b[0;32mif\u001b[0m \u001b[0;32mnot\u001b[0m \u001b[0mself\u001b[0m\u001b[0;34m.\u001b[0m\u001b[0m_persistent\u001b[0m\u001b[0;34m:\u001b[0m\u001b[0;34m\u001b[0m\u001b[0;34m\u001b[0m\u001b[0m\n",
                        "\u001b[0;32m~/venv/ar3d/lib/python3.7/site-packages/tensorflow/python/eager/imperative_grad.py\u001b[0m in \u001b[0;36mimperative_grad\u001b[0;34m(tape, target, sources, output_gradients, sources_raw, unconnected_gradients)\u001b[0m\n\u001b[1;32m     75\u001b[0m       \u001b[0moutput_gradients\u001b[0m\u001b[0;34m,\u001b[0m\u001b[0;34m\u001b[0m\u001b[0;34m\u001b[0m\u001b[0m\n\u001b[1;32m     76\u001b[0m       \u001b[0msources_raw\u001b[0m\u001b[0;34m,\u001b[0m\u001b[0;34m\u001b[0m\u001b[0;34m\u001b[0m\u001b[0m\n\u001b[0;32m---> 77\u001b[0;31m       compat.as_str(unconnected_gradients.value))\n\u001b[0m",
                        "\u001b[0;32m~/venv/ar3d/lib/python3.7/site-packages/tensorflow/python/eager/backprop.py\u001b[0m in \u001b[0;36m_gradient_function\u001b[0;34m(op_name, attr_tuple, num_inputs, inputs, outputs, out_grads, skip_input_indices, forward_pass_name_scope)\u001b[0m\n\u001b[1;32m    160\u001b[0m       \u001b[0mgradient_name_scope\u001b[0m \u001b[0;34m+=\u001b[0m \u001b[0mforward_pass_name_scope\u001b[0m \u001b[0;34m+\u001b[0m \u001b[0;34m\"/\"\u001b[0m\u001b[0;34m\u001b[0m\u001b[0;34m\u001b[0m\u001b[0m\n\u001b[1;32m    161\u001b[0m     \u001b[0;32mwith\u001b[0m \u001b[0mops\u001b[0m\u001b[0;34m.\u001b[0m\u001b[0mname_scope\u001b[0m\u001b[0;34m(\u001b[0m\u001b[0mgradient_name_scope\u001b[0m\u001b[0;34m)\u001b[0m\u001b[0;34m:\u001b[0m\u001b[0;34m\u001b[0m\u001b[0;34m\u001b[0m\u001b[0m\n\u001b[0;32m--> 162\u001b[0;31m       \u001b[0;32mreturn\u001b[0m \u001b[0mgrad_fn\u001b[0m\u001b[0;34m(\u001b[0m\u001b[0mmock_op\u001b[0m\u001b[0;34m,\u001b[0m \u001b[0;34m*\u001b[0m\u001b[0mout_grads\u001b[0m\u001b[0;34m)\u001b[0m\u001b[0;34m\u001b[0m\u001b[0;34m\u001b[0m\u001b[0m\n\u001b[0m\u001b[1;32m    163\u001b[0m   \u001b[0;32melse\u001b[0m\u001b[0;34m:\u001b[0m\u001b[0;34m\u001b[0m\u001b[0;34m\u001b[0m\u001b[0m\n\u001b[1;32m    164\u001b[0m     \u001b[0;32mreturn\u001b[0m \u001b[0mgrad_fn\u001b[0m\u001b[0;34m(\u001b[0m\u001b[0mmock_op\u001b[0m\u001b[0;34m,\u001b[0m \u001b[0;34m*\u001b[0m\u001b[0mout_grads\u001b[0m\u001b[0;34m)\u001b[0m\u001b[0;34m\u001b[0m\u001b[0;34m\u001b[0m\u001b[0m\n",
                        "\u001b[0;32m~/venv/ar3d/lib/python3.7/site-packages/tensorflow/python/ops/nn_grad.py\u001b[0m in \u001b[0;36m_MaxPool3DGrad\u001b[0;34m(op, grad)\u001b[0m\n\u001b[1;32m    247\u001b[0m       \u001b[0mstrides\u001b[0m\u001b[0;34m=\u001b[0m\u001b[0mop\u001b[0m\u001b[0;34m.\u001b[0m\u001b[0mget_attr\u001b[0m\u001b[0;34m(\u001b[0m\u001b[0;34m\"strides\"\u001b[0m\u001b[0;34m)\u001b[0m\u001b[0;34m,\u001b[0m\u001b[0;34m\u001b[0m\u001b[0;34m\u001b[0m\u001b[0m\n\u001b[1;32m    248\u001b[0m       \u001b[0mpadding\u001b[0m\u001b[0;34m=\u001b[0m\u001b[0mop\u001b[0m\u001b[0;34m.\u001b[0m\u001b[0mget_attr\u001b[0m\u001b[0;34m(\u001b[0m\u001b[0;34m\"padding\"\u001b[0m\u001b[0;34m)\u001b[0m\u001b[0;34m,\u001b[0m\u001b[0;34m\u001b[0m\u001b[0;34m\u001b[0m\u001b[0m\n\u001b[0;32m--> 249\u001b[0;31m       data_format=op.get_attr(\"data_format\").decode())\n\u001b[0m\u001b[1;32m    250\u001b[0m \u001b[0;34m\u001b[0m\u001b[0m\n\u001b[1;32m    251\u001b[0m \u001b[0;34m\u001b[0m\u001b[0m\n",
                        "\u001b[0;32m~/venv/ar3d/lib/python3.7/site-packages/tensorflow/python/ops/gen_nn_ops.py\u001b[0m in \u001b[0;36mmax_pool3d_grad\u001b[0;34m(orig_input, orig_output, grad, ksize, strides, padding, data_format, name)\u001b[0m\n\u001b[1;32m   5452\u001b[0m         \u001b[0m_ctx\u001b[0m\u001b[0;34m.\u001b[0m\u001b[0m_context_handle\u001b[0m\u001b[0;34m,\u001b[0m \u001b[0mtld\u001b[0m\u001b[0;34m.\u001b[0m\u001b[0mdevice_name\u001b[0m\u001b[0;34m,\u001b[0m \u001b[0;34m\"MaxPool3DGrad\"\u001b[0m\u001b[0;34m,\u001b[0m \u001b[0mname\u001b[0m\u001b[0;34m,\u001b[0m\u001b[0;34m\u001b[0m\u001b[0;34m\u001b[0m\u001b[0m\n\u001b[1;32m   5453\u001b[0m         \u001b[0mtld\u001b[0m\u001b[0;34m.\u001b[0m\u001b[0mop_callbacks\u001b[0m\u001b[0;34m,\u001b[0m \u001b[0morig_input\u001b[0m\u001b[0;34m,\u001b[0m \u001b[0morig_output\u001b[0m\u001b[0;34m,\u001b[0m \u001b[0mgrad\u001b[0m\u001b[0;34m,\u001b[0m \u001b[0;34m\"ksize\"\u001b[0m\u001b[0;34m,\u001b[0m \u001b[0mksize\u001b[0m\u001b[0;34m,\u001b[0m\u001b[0;34m\u001b[0m\u001b[0;34m\u001b[0m\u001b[0m\n\u001b[0;32m-> 5454\u001b[0;31m         \"strides\", strides, \"padding\", padding, \"data_format\", data_format)\n\u001b[0m\u001b[1;32m   5455\u001b[0m       \u001b[0;32mreturn\u001b[0m \u001b[0m_result\u001b[0m\u001b[0;34m\u001b[0m\u001b[0;34m\u001b[0m\u001b[0m\n\u001b[1;32m   5456\u001b[0m     \u001b[0;32mexcept\u001b[0m \u001b[0m_core\u001b[0m\u001b[0;34m.\u001b[0m\u001b[0m_NotOkStatusException\u001b[0m \u001b[0;32mas\u001b[0m \u001b[0me\u001b[0m\u001b[0;34m:\u001b[0m\u001b[0;34m\u001b[0m\u001b[0;34m\u001b[0m\u001b[0m\n",
                        "\u001b[0;31mKeyboardInterrupt\u001b[0m: "
                    ]
                }
            ],
            "metadata": {}
        },
        {
            "cell_type": "code",
            "execution_count": null,
            "source": [],
            "outputs": [],
            "metadata": {}
        }
    ],
    "metadata": {
        "orig_nbformat": 4,
        "language_info": {
            "name": "python",
            "version": "3.7.6",
            "mimetype": "text/x-python",
            "codemirror_mode": {
                "name": "ipython",
                "version": 3
            },
            "pygments_lexer": "ipython3",
            "nbconvert_exporter": "python",
            "file_extension": ".py"
        },
        "kernelspec": {
            "name": "python3",
            "display_name": "Python 3.7.6 64-bit ('ar3d': venv)"
        },
        "interpreter": {
            "hash": "12580a1d599caf4f826b1cc666db7a6a0b35851f63844b13661ec586c47d4c27"
        }
    },
    "nbformat": 4,
    "nbformat_minor": 2
}